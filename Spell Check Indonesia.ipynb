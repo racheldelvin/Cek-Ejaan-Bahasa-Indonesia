{
 "cells": [
  {
   "cell_type": "code",
   "execution_count": 1,
   "id": "polar-noise",
   "metadata": {},
   "outputs": [],
   "source": [
    "import re\n",
    "import string\n",
    "import numpy as np\n",
    "from collections import Counter"
   ]
  },
  {
   "cell_type": "code",
   "execution_count": 2,
   "id": "magnetic-persian",
   "metadata": {},
   "outputs": [],
   "source": [
    "class SpellChecker:\n",
    "    \n",
    "    def __init__(self, corpus_file):\n",
    "        with open(corpus_file, 'r') as file:\n",
    "            lines = file.readlines()\n",
    "            words = []\n",
    "            for line in lines:\n",
    "                words += re.findall(r'\\w+', line.lower()) #read as single words and input it in the words list\n",
    "    \n",
    "        self.vocabs = set(words) #get unique words\n",
    "        self.word_count = Counter(words)\n",
    "        N = float(sum(self.word_count.values())) #total words\n",
    "        self.word_prob = {word: self.word_count[word] / N for word in self.vocabs}\n",
    "    \n",
    "    def first_edit(self, word):\n",
    "        letters = string.ascii_lowercase                                  #lowercase alphabet\n",
    "        split = [(word[:i], word[i:]) for i in range(len(word) + 1)]      #[('', 'bug'), ('b', 'ug'), ('bu', 'g'), ('bug', '')]\n",
    "        \n",
    "        #l is left (before comma) , r is right (after comma)\n",
    "        delete = [l + r[1:] for l, r in split if r]                       #[ug, bg, bu]\n",
    "        swap = [l + r[1] + r[0] + r[2:] for l, r in split if len(r) > 1]  #[ubg, bgu]\n",
    "        replace = [l + c + r[1:] for l, r in split if r for c in letters] #[aug, bug, cug, ..., buz]\n",
    "        insert = [l + c + r for l, r in split if r for c in letters]      #[abug, bbug, cbug, ..., bugz]\n",
    "        \n",
    "        return set(delete + swap + replace + insert) #unique output\n",
    "    \n",
    "    def second_edit(self,word):\n",
    "        # run first edit two times\n",
    "        return set(edit2 for edit1 in self.first_edit(word) for edit2 in self.first_edit(edit1))\n",
    "    \n",
    "    def check(self, word):\n",
    "        correction = self.first_edit(word) or self.second_edit(word) or [word]\n",
    "        \n",
    "        #check if the correction is a valid word in the corpus\n",
    "        valid_correction = [w for w in correction if w in self.vocabs]\n",
    "        \n",
    "        return sorted([(c, self.word_prob[c]) for c in valid_correction], \n",
    "                      key = lambda tup: tup[1],  #sort based on the word_prob\n",
    "                      reverse = True) #biggest prob first\n",
    "    \n",
    "    def correct(self, word):\n",
    "        #if the spelling is right, there is nothing to correct\n",
    "        if word in self.vocabs:\n",
    "            return word\n",
    "        #if the spelling is wrong, correct it with the word with highest prob\n",
    "        else: \n",
    "            most_valid_correction = max(self.check(word), key = lambda tup: tup[1])\n",
    "            return most_valid_correction[0]"
   ]
  },
  {
   "cell_type": "code",
   "execution_count": 3,
   "id": "individual-assault",
   "metadata": {},
   "outputs": [],
   "source": [
    "#input corpus\n",
    "checker = SpellChecker('kataKBBI.txt')"
   ]
  },
  {
   "cell_type": "code",
   "execution_count": 6,
   "id": "consolidated-reason",
   "metadata": {},
   "outputs": [
    {
     "data": {
      "text/plain": [
       "[('ayak', 0.000108737019518295),\n",
       " ('ayan', 8.155276463872126e-05),\n",
       " ('ayah', 5.43685097591475e-05),\n",
       " ('ayat', 5.43685097591475e-05),\n",
       " ('ayap', 2.718425487957375e-05),\n",
       " ('ayal', 2.718425487957375e-05),\n",
       " ('ayar', 2.718425487957375e-05),\n",
       " ('ayam', 2.718425487957375e-05)]"
      ]
     },
     "execution_count": 6,
     "metadata": {},
     "output_type": "execute_result"
    }
   ],
   "source": [
    "checker.check('ayaa')"
   ]
  },
  {
   "cell_type": "code",
   "execution_count": 8,
   "id": "efficient-biodiversity",
   "metadata": {},
   "outputs": [
    {
     "data": {
      "text/plain": [
       "'ayak'"
      ]
     },
     "execution_count": 8,
     "metadata": {},
     "output_type": "execute_result"
    }
   ],
   "source": [
    "checker.correct('ayaa')"
   ]
  },
  {
   "cell_type": "code",
   "execution_count": 9,
   "id": "earlier-divorce",
   "metadata": {},
   "outputs": [
    {
     "data": {
      "text/plain": [
       "[('abah', 0.000108737019518295),\n",
       " ('ayak', 0.000108737019518295),\n",
       " ('layah', 0.000108737019518295),\n",
       " ('alah', 8.155276463872126e-05),\n",
       " ('ayan', 8.155276463872126e-05),\n",
       " ('arah', 8.155276463872126e-05),\n",
       " ('acah', 8.155276463872126e-05),\n",
       " ('asah', 5.43685097591475e-05),\n",
       " ('payah', 5.43685097591475e-05),\n",
       " ('ayah', 5.43685097591475e-05),\n",
       " ('amah', 5.43685097591475e-05),\n",
       " ('ayat', 5.43685097591475e-05),\n",
       " ('syah', 5.43685097591475e-05),\n",
       " ('wayah', 2.718425487957375e-05),\n",
       " ('agah', 2.718425487957375e-05),\n",
       " ('ayap', 2.718425487957375e-05),\n",
       " ('awah', 2.718425487957375e-05),\n",
       " ('rayah', 2.718425487957375e-05),\n",
       " ('uyah', 2.718425487957375e-05),\n",
       " ('ayal', 2.718425487957375e-05),\n",
       " ('dayah', 2.718425487957375e-05),\n",
       " ('ayar', 2.718425487957375e-05),\n",
       " ('nyah', 2.718425487957375e-05),\n",
       " ('ayam', 2.718425487957375e-05)]"
      ]
     },
     "execution_count": 9,
     "metadata": {},
     "output_type": "execute_result"
    }
   ],
   "source": [
    "checker.check('ayah')"
   ]
  },
  {
   "cell_type": "code",
   "execution_count": 10,
   "id": "funky-dress",
   "metadata": {},
   "outputs": [
    {
     "data": {
      "text/plain": [
       "'ayah'"
      ]
     },
     "execution_count": 10,
     "metadata": {},
     "output_type": "execute_result"
    }
   ],
   "source": [
    "checker.correct('ayah')"
   ]
  }
 ],
 "metadata": {
  "kernelspec": {
   "display_name": "Python [conda env:RachelEnv] *",
   "language": "python",
   "name": "conda-env-RachelEnv-py"
  },
  "language_info": {
   "codemirror_mode": {
    "name": "ipython",
    "version": 3
   },
   "file_extension": ".py",
   "mimetype": "text/x-python",
   "name": "python",
   "nbconvert_exporter": "python",
   "pygments_lexer": "ipython3",
   "version": "3.7.9"
  }
 },
 "nbformat": 4,
 "nbformat_minor": 5
}
