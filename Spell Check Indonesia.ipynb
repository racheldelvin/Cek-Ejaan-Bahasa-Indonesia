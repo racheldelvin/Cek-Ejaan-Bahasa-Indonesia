{
 "cells": [
  {
   "cell_type": "code",
   "execution_count": 1,
   "id": "spread-update",
   "metadata": {},
   "outputs": [],
   "source": [
    "import re\n",
    "import string\n",
    "import numpy as np\n",
    "from collections import Counter"
   ]
  },
  {
   "cell_type": "code",
   "execution_count": 14,
   "id": "tender-ireland",
   "metadata": {},
   "outputs": [],
   "source": [
    "class SpellChecker():\n",
    "    \n",
    "    def __init__(self, corpus_file):\n",
    "        with open(corpus_file, 'r') as file:\n",
    "            lines = file.readlines()\n",
    "            words = []\n",
    "            for line in lines:\n",
    "                words += re.findall(r'\\w+', line.lower()) #read as single words and input it in the words list\n",
    "    \n",
    "        self.vocabs = set(words) #get unique words\n",
    "        self.word_count = Counter(words)\n",
    "        N = float(sum(self.word_count.values())) #total words\n",
    "        self.word_prob = {word: self.word_count[word] / N for word in self.vocabs}\n",
    "    \n",
    "    def first_edit(self, word):\n",
    "        letters = string.ascii_lowercase                                  #lowercase alphabet\n",
    "        split = [(word[:i], word[i:]) for i in range(len(word) + 1)]      #[('', 'bug'), ('b', 'ug'), ('bu', 'g'), ('bug', '')]\n",
    "        \n",
    "        #l is left (before comma) , r is right (after comma)\n",
    "        delete = [l + r[1:] for l, r in split if r]                       #[ug, bg, bu]\n",
    "        swap = [l + r[1] + r[0] + r[2:] for l, r in split if len(r) > 1]  #[ubg, bgu]\n",
    "        replace = [l + c + r[1:] for l, r in split if r for c in letters] #[aug, bug, cug, ..., buz]\n",
    "        insert = [l + c + r for l, r in split if r for c in letters]      #[abug, bbug, cbug, ..., bugz]\n",
    "        \n",
    "        return set(delete + swap + replace + insert) #unique output\n",
    "    \n",
    "    def second_edit(self,word):\n",
    "        # run first edit two times\n",
    "        return set(edit2 for edit1 in self.first_edit(word) for edit2 in self.first_edit(edit1))\n",
    "    \n",
    "    def check(self, word):\n",
    "        correction = self.first_edit(word) or self.second_edit(word) or [word]\n",
    "        \n",
    "        #check if the correction is a valid word in the corpus\n",
    "        valid_correction = [w for w in correction if w in self.vocabs]\n",
    "        \n",
    "        return sorted([(c, self.word_prob[c]) for c in valid_correction], \n",
    "                      key = lambda tup: tup[1],  #sort based on the word_prob\n",
    "                      reverse = True) #biggest prob first\n",
    "    \n",
    "    def correct(self, word):\n",
    "        return max(self.check(word), key = lambda tup: tup[1])"
   ]
  },
  {
   "cell_type": "code",
   "execution_count": 24,
   "id": "awful-shanghai",
   "metadata": {},
   "outputs": [],
   "source": [
    "#input corpus\n",
    "checker = SpellChecker('.txt')"
   ]
  },
  {
   "cell_type": "code",
   "execution_count": 21,
   "id": "descending-religious",
   "metadata": {},
   "outputs": [
    {
     "data": {
      "text/plain": [
       "[('kala', 0.011363636363636364), ('kata', 0.011363636363636364)]"
      ]
     },
     "execution_count": 21,
     "metadata": {},
     "output_type": "execute_result"
    }
   ],
   "source": [
    "checker.check('kata')"
   ]
  },
  {
   "cell_type": "code",
   "execution_count": 23,
   "id": "cellular-swing",
   "metadata": {},
   "outputs": [
    {
     "data": {
      "text/plain": [
       "('kala', 0.011363636363636364)"
      ]
     },
     "execution_count": 23,
     "metadata": {},
     "output_type": "execute_result"
    }
   ],
   "source": [
    "checker.correct('kat')"
   ]
  },
  {
   "cell_type": "code",
   "execution_count": null,
   "id": "empty-diving",
   "metadata": {},
   "outputs": [],
   "source": []
  }
 ],
 "metadata": {
  "kernelspec": {
   "display_name": "Python [conda env:RachelEnv] *",
   "language": "python",
   "name": "conda-env-RachelEnv-py"
  },
  "language_info": {
   "codemirror_mode": {
    "name": "ipython",
    "version": 3
   },
   "file_extension": ".py",
   "mimetype": "text/x-python",
   "name": "python",
   "nbconvert_exporter": "python",
   "pygments_lexer": "ipython3",
   "version": "3.7.9"
  }
 },
 "nbformat": 4,
 "nbformat_minor": 5
}
